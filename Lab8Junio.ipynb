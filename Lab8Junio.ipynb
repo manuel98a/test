{
  "nbformat": 4,
  "nbformat_minor": 0,
  "metadata": {
    "colab": {
      "name": "Lab8Junio.ipynb",
      "provenance": [],
      "authorship_tag": "ABX9TyOZA1rg9s7OVDHRGr2utEH3",
      "include_colab_link": true
    },
    "kernelspec": {
      "name": "python3",
      "display_name": "Python 3"
    },
    "language_info": {
      "name": "python"
    }
  },
  "cells": [
    {
      "cell_type": "markdown",
      "metadata": {
        "id": "view-in-github",
        "colab_type": "text"
      },
      "source": [
        "<a href=\"https://colab.research.google.com/github/manuel98a/test/blob/main/Lab8Junio.ipynb\" target=\"_parent\"><img src=\"https://colab.research.google.com/assets/colab-badge.svg\" alt=\"Open In Colab\"/></a>"
      ]
    },
    {
      "cell_type": "code",
      "source": [
        "import pandas as pd\n",
        "\n",
        "from google.colab import auth\n",
        "auth.authenticate_user()\n",
        "\n",
        "import gspread\n",
        "from google.auth import default\n",
        "creds, _ = default()\n",
        "\n",
        "gc = gspread.authorize(creds)\n",
        "sh = gc.create('Hojita de Andrés')"
      ],
      "metadata": {
        "id": "fOaF39lKCL85"
      },
      "execution_count": null,
      "outputs": []
    },
    {
      "cell_type": "code",
      "source": [
        "from gspread.models import Worksheet\n",
        "worksheet = gc.open('Hojita de Andrés').sheet1\n",
        "\n",
        "cell_list = worksheet.range('A1:G14')\n",
        "\n",
        "import random\n",
        "for cell in cell_list:\n",
        "  cell.value = random.randint(1,10)\n",
        "\n",
        "worksheet.update_cells(cell_list)"
      ],
      "metadata": {
        "colab": {
          "base_uri": "https://localhost:8080/"
        },
        "id": "Z4hkibSeFCuI",
        "outputId": "a66ff0a1-5f86-443c-acaa-a9e785433266"
      },
      "execution_count": null,
      "outputs": [
        {
          "output_type": "execute_result",
          "data": {
            "text/plain": [
              "{'spreadsheetId': '1hVq9oW_jeYo60QDzQyDdbcmiIRTB6PjhFmDhSeWtBG8',\n",
              " 'updatedCells': 98,\n",
              " 'updatedColumns': 7,\n",
              " 'updatedRange': \"'Hoja 1'!A1:G14\",\n",
              " 'updatedRows': 14}"
            ]
          },
          "metadata": {},
          "execution_count": 4
        }
      ]
    },
    {
      "cell_type": "code",
      "source": [
        "worksheet = gc.open('Hojita de Andrés').sheet1\n",
        "rows = worksheet.get_all_values()\n",
        "print(rows)"
      ],
      "metadata": {
        "colab": {
          "base_uri": "https://localhost:8080/"
        },
        "id": "ypzSxjWIH8Hi",
        "outputId": "8ae63008-4f3b-4abf-9325-2208c7eadadc"
      },
      "execution_count": null,
      "outputs": [
        {
          "output_type": "stream",
          "name": "stdout",
          "text": [
            "[['1', '10', '5', '9', '2', '6', '9'], ['1', '3', '6', '8', '8', '4', '8'], ['6', '7', '4', '1', '10', '5', '4'], ['10', '3', '4', '6', '6', '2', '8'], ['5', '2', '6', '10', '7', '8', '1'], ['1', '7', '10', '5', '5', '8', '9'], ['6', '4', '3', '8', '7', '3', '9'], ['9', '9', '2', '5', '9', '10', '8'], ['9', '6', '6', '4', '10', '4', '1'], ['7', '1', '7', '6', '7', '7', '3'], ['8', '7', '10', '7', '9', '2', '2'], ['8', '9', '2', '3', '4', '3', '1'], ['4', '5', '8', '3', '4', '1', '8'], ['2', '7', '2', '7', '1', '5', '1']]\n"
          ]
        }
      ]
    }
  ]
}